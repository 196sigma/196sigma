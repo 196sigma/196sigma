{
 "cells": [
  {
   "cell_type": "code",
   "execution_count": 8,
   "metadata": {},
   "outputs": [],
   "source": [
    "import numpy as np\n",
    "import pandas as pd\n",
    "import matplotlib.pyplot as plt"
   ]
  },
  {
   "cell_type": "code",
   "execution_count": 48,
   "metadata": {},
   "outputs": [],
   "source": [
    "years = ['2014', '2015', '2016', '2017', '2018']\n",
    "memberStatus = ['bronze', 'silver', 'gold','inactive']\n",
    "N_MEMBERS = 1000\n",
    "MEMBER_YEAR_DIST = [0.1, 0.1, 0.15, 0.30, 0.35]\n",
    "MEMBER_STATUS_DIST = [0.5, 0.3, 0.1, 0.1]\n",
    "\n",
    "NUM_EMAILS_SENT_WEEKLY = 3\n",
    "\n",
    "behaviors = ['never_opens', 'constant_open_rate', 'increasing_open_rate', 'decreasing_open_rate']\n",
    "MEMBER_BEHAVIOR_DIST = [0.2, 0.5, 0.1, 0.2]"
   ]
  },
  {
   "cell_type": "code",
   "execution_count": 10,
   "metadata": {},
   "outputs": [],
   "source": [
    "memberYears = np.random.choice(years, N_MEMBERS, p = MEMBER_YEAR_DIST)\n",
    "memberStats = np.random.choice(memberStatus, N_MEMBERS, MEMBER_STATUS_DIST)"
   ]
  },
  {
   "cell_type": "code",
   "execution_count": 11,
   "metadata": {},
   "outputs": [
    {
     "data": {
      "text/plain": [
       "(array([167.,   0., 280.,   0.,   0.,  90.,   0., 351.,   0., 112.]),\n",
       " array([0. , 0.4, 0.8, 1.2, 1.6, 2. , 2.4, 2.8, 3.2, 3.6, 4. ]),\n",
       " <a list of 10 Patch objects>)"
      ]
     },
     "execution_count": 11,
     "metadata": {},
     "output_type": "execute_result"
    },
    {
     "data": {
      "image/png": "[encoded data removed]",
      "text/plain": [
       "<Figure size 432x288 with 1 Axes>"
      ]
     },
     "metadata": {
      "needs_background": "light"
     },
     "output_type": "display_data"
    }
   ],
   "source": [
    "plt.hist(memberYears)"
   ]
  },
  {
   "cell_type": "code",
   "execution_count": 12,
   "metadata": {},
   "outputs": [
    {
     "data": {
      "text/plain": [
       "(array([268.,   0.,   0., 252.,   0.,   0., 237.,   0.,   0., 243.]),\n",
       " array([0. , 0.3, 0.6, 0.9, 1.2, 1.5, 1.8, 2.1, 2.4, 2.7, 3. ]),\n",
       " <a list of 10 Patch objects>)"
      ]
     },
     "execution_count": 12,
     "metadata": {},
     "output_type": "execute_result"
    },
    {
     "data": {
      "image/png": "[encoded data removed]",
      "text/plain": [
       "<Figure size 432x288 with 1 Axes>"
      ]
     },
     "metadata": {
      "needs_background": "light"
     },
     "output_type": "display_data"
    }
   ],
   "source": [
    "plt.hist(memberStats)"
   ]
  },
  {
   "cell_type": "code",
   "execution_count": 20,
   "metadata": {},
   "outputs": [
    {
     "data": {
      "text/html": [
       "<div>\n",
       "<style scoped>\n",
       "    .dataframe tbody tr th:only-of-type {\n",
       "        vertical-align: middle;\n",
       "    }\n",
       "\n",
       "    .dataframe tbody tr th {\n",
       "        vertical-align: top;\n",
       "    }\n",
       "\n",
       "    .dataframe thead th {\n",
       "        text-align: right;\n",
       "    }\n",
       "</style>\n",
       "<table border=\"1\" class=\"dataframe\">\n",
       "  <thead>\n",
       "    <tr style=\"text-align: right;\">\n",
       "      <th></th>\n",
       "      <th>yearJoined</th>\n",
       "      <th>memberStats</th>\n",
       "    </tr>\n",
       "  </thead>\n",
       "  <tbody>\n",
       "    <tr>\n",
       "      <th>0</th>\n",
       "      <td>2016</td>\n",
       "      <td>inactive</td>\n",
       "    </tr>\n",
       "    <tr>\n",
       "      <th>1</th>\n",
       "      <td>2017</td>\n",
       "      <td>inactive</td>\n",
       "    </tr>\n",
       "    <tr>\n",
       "      <th>2</th>\n",
       "      <td>2015</td>\n",
       "      <td>bronze</td>\n",
       "    </tr>\n",
       "    <tr>\n",
       "      <th>3</th>\n",
       "      <td>2018</td>\n",
       "      <td>silver</td>\n",
       "    </tr>\n",
       "    <tr>\n",
       "      <th>4</th>\n",
       "      <td>2018</td>\n",
       "      <td>gold</td>\n",
       "    </tr>\n",
       "  </tbody>\n",
       "</table>\n",
       "</div>"
      ],
      "text/plain": [
       "  yearJoined memberStats\n",
       "0       2016    inactive\n",
       "1       2017    inactive\n",
       "2       2015      bronze\n",
       "3       2018      silver\n",
       "4       2018        gold"
      ]
     },
     "execution_count": 20,
     "metadata": {},
     "output_type": "execute_result"
    }
   ],
   "source": [
    "yearJoined = pd.DataFrame({'yearJoined': memberYears, \n",
    "                          'memberStats': memberStats})\n",
    "yearJoined.head()"
   ]
  },
  {
   "cell_type": "code",
   "execution_count": 59,
   "metadata": {},
   "outputs": [],
   "source": [
    "def never_opens(period_rng):\n",
    "    return []\n",
    "\n",
    "def constant_open_rate(period_rng):\n",
    "    p = np.random.uniform(0,1)\n",
    "    num_opened = np.random.binomial(NUM_EMAILS_SENT_WEEKLY, p, len(period_rng))\n",
    "    return num_opened\n",
    "\n",
    "def increasing_open_rate(period_rng):\n",
    "    fac = np.random.uniform(1.01, 1.30)\n",
    "    return open_rate_with_factor_change(period_rng, fac)\n",
    "\n",
    "def decreasing_open_rate(period_rng):\n",
    "    fac = np.random.uniform(0.50, 0.99)\n",
    "    return open_rate_with_factor_change(period_rng, fac)\n",
    "\n",
    "def open_rate_with_factor_change(period_rng, fac):\n",
    "    if len(period_rng) < 1:\n",
    "        return []\n",
    "    times = np.random.randint(0, len(period_rng), int(0.1*len(period_rng)))\n",
    "    num_opened = np.zeros(len(period_rng))\n",
    "    for prd in range(0, len(period_rng), 2):\n",
    "        try:\n",
    "            p = np.random.uniform(0,1)\n",
    "            num_opened[prd:(prd+2)] = np.random.binomial(NUM_EMAILS_SENT_WEEKLY, p, 1)\n",
    "            p = max(min(1, p*fac), 0)\n",
    "        except:\n",
    "            num_opened[prd] = np.random.binomial(NUM_EMAILS_SENT_WEEKLY, p, 1)\n",
    "    for t in range(len(times)):\n",
    "        num_opened[times[t]] = 0\n",
    "    return num_opened\n",
    "\n",
    "def random_weekly_time_delta():\n",
    "    days_of_week = list(range(7))\n",
    "    hours_of_day = list(range(11,23))\n",
    "    minutes_of_hour = list(range(60))\n",
    "    seconds_of_minute = list(range(60))\n",
    "\n",
    "    return pd.Timedelta(str(np.random.choice(days_of_week)) + \" days\") + \\\n",
    "        pd.Timedelta(str(np.random.choice(hours_of_day)) + \" hours\") + \\\n",
    "        pd.Timedelta(str(np.random.choice(minutes_of_hour)) + \" minutes\") + \\\n",
    "        pd.Timedelta(str(np.random.choice(seconds_of_minute)) + \" seconds\")\n",
    "\n",
    "def produce_donation(period_rng, member_behavior, num_emails, use_id, member_join_year):\n",
    "    donation_amounts = np.array([0, 25, 50, 75, 100, 250, 500, 1000, 1500, 2000])\n",
    "    \n",
    "    member_has = np.random.choice(donation_amounts)\n",
    "    \n",
    "    email_fraction = num_emails/(NUM_EMAILS_SENT_WEEKLY*len(period_rng))\n",
    "    \n",
    "    member_gives = member_has*email_fraction\n",
    "    \n",
    "    member_gives_idx = np.where(member_gives >= donation_amounts)[0][-1]\n",
    "    \n",
    "    member_gives_idx = max(min(member_gives_idx, len(donation_amounts) - 2),1)\n",
    "    \n",
    "    num_times_gave = np.random.poisson(2)*(2018 - member_join_year)\n",
    "    \n",
    "    times = np.random.randint(0, len(period_rng), num_times_gave)\n",
    "    \n",
    "    dons = pd.DataFrame({'member'   : [],\n",
    "                         'amount'   : [], \n",
    "                         'timestamp': []})\n",
    "    \n",
    "    for n in range(num_times_gave):\n",
    "        donation = donation_amounts[member_gives_idx + np.random.binomial(1, 0.3)]\n",
    "        ts = str(period_rng[times[n]].start_time + random_weekly_time_delta())\n",
    "        dons = dons.append(pd.DataFrame(\n",
    "                        {'member'   : [use_id],\n",
    "                         'amount'   : [donation], \n",
    "                         'timestamp': [ts]}))\n",
    "    \n",
    "    if dons.shape[0] > 0:\n",
    "        dons = dons[dons.amount != 0]\n",
    "        \n",
    "    return dons"
   ]
  },
  {
   "cell_type": "code",
   "execution_count": 16,
   "metadata": {},
   "outputs": [
    {
     "data": {
      "text/plain": [
       "(array([261.,   0.,   0., 248.,   0.,   0., 252.,   0.,   0., 239.]),\n",
       " array([0. , 0.3, 0.6, 0.9, 1.2, 1.5, 1.8, 2.1, 2.4, 2.7, 3. ]),\n",
       " <a list of 10 Patch objects>)"
      ]
     },
     "execution_count": 16,
     "metadata": {},
     "output_type": "execute_result"
    },
    {
     "data": {
      "image/png": "[encoded data removed]",
      "text/plain": [
       "<Figure size 432x288 with 1 Axes>"
      ]
     },
     "metadata": {
      "needs_background": "light"
     },
     "output_type": "display_data"
    }
   ],
   "source": [
    "member_behaviors = np.random.choice(behaviors, N_MEMBERS, MEMBER_BEHAVIOR_DIST)\n",
    "plt.hist(member_behaviors)"
   ]
  },
  {
   "cell_type": "code",
   "execution_count": 61,
   "metadata": {},
   "outputs": [],
   "source": [
    "rng = pd.period_range('2015-02-14', '2018-06-01', freq='W')\n",
    "emails = pd.DataFrame({'member': [],\n",
    "                     'week': [],\n",
    "                     'emailsOpened': []})\n",
    "donations = pd.DataFrame({'member' :[],\n",
    "                       'amount': [],\n",
    "                       'timestamp': []})\n",
    "\n",
    "for idx in range(yearJoined.shape[0]):\n",
    "    join_date = pd.Timestamp(yearJoined.iloc[idx].yearJoined) + \\\n",
    "    pd.Timedelta(str(np.random.randint(0, 365)) + ' days')\n",
    "    \n",
    "    join_date = min(join_date, pd.Timestamp('2018-06-01'))\n",
    "    _rng = rng.to_timestamp()\n",
    "    member_rng = rng[_rng > join_date]\n",
    "    \n",
    "    if len(member_rng) < 1:\n",
    "        continue\n",
    "    \n",
    "    info = eval(member_behaviors[idx])(member_rng)\n",
    "    if len(info) == len(member_rng):\n",
    "        emails = emails.append(pd.DataFrame({'member': [idx]*len(info),\n",
    "                                             'week': [str(r.start_time) for r in member_rng] ,\n",
    "                                             'emailsOpened': info}))\n",
    "        donations = donations.append(produce_donation(member_rng, member_behaviors[idx],\n",
    "                                                     sum(info), idx, join_date.year))\n",
    "        \n",
    "        "
   ]
  },
  {
   "cell_type": "code",
   "execution_count": 64,
   "metadata": {},
   "outputs": [
    {
     "data": {
      "text/plain": [
       "<matplotlib.axes._subplots.AxesSubplot at 0x7f60c318dfd0>"
      ]
     },
     "execution_count": 64,
     "metadata": {},
     "output_type": "execute_result"
    },
    {
     "data": {
      "image/png": "[encoded data removed]",
      "text/plain": [
       "<Figure size 432x288 with 1 Axes>"
      ]
     },
     "metadata": {
      "needs_background": "light"
     },
     "output_type": "display_data"
    }
   ],
   "source": [
    "donations = donations.set_index(pd.to_datetime(donations.timestamp))\n",
    "donations.sort_index(inplace=True)\n",
    "donations.groupby(pd.Grouper(freq='M')).amount.sum().plot()"
   ]
  },
  {
   "cell_type": "code",
   "execution_count": null,
   "metadata": {},
   "outputs": [],
   "source": []
  }
 ],
 "metadata": {
  "kernelspec": {
   "display_name": "Python 3",
   "language": "python",
   "name": "python3"
  },
  "language_info": {
   "codemirror_mode": {
    "name": "ipython",
    "version": 3
   },
   "file_extension": ".py",
   "mimetype": "text/x-python",
   "name": "python",
   "nbconvert_exporter": "python",
   "pygments_lexer": "ipython3",
   "version": "3.7.4"
  }
 },
 "nbformat": 4,
 "nbformat_minor": 2
}
